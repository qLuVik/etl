{
  "cells": [
    {
      "cell_type": "markdown",
      "metadata": {
        "id": "bEx0EgnxPzf-"
      },
      "source": [
        "# Практическая работа 2.1. Анализ данных с помощью DASK\n",
        "\n",
        "**Вариант 5**\n",
        "\n",
        "UK Property Price official data 1995-202304.zip.\n",
        "\n",
        "**Задание.**\n",
        "\n",
        "`2.1.1.` Настроить среду и рабочий каталог.\n",
        "\n",
        "`2.1.2.` Загрузить данные.\n",
        "\n",
        "`2.1.3.` Проверить качество данных (например, отсутствующие значения и выбросы).\n",
        "\n",
        "`2.1.4.` Удалить столбцы (множество пропусков в значениях, бесполезные столбцы для анализа)."
      ]
    },
    {
      "cell_type": "markdown",
      "metadata": {
        "id": "MmgSJ5WcSh3h"
      },
      "source": [
        "`2.1.1.` **Настроить среду и рабочий каталог.**"
      ]
    },
    {
      "cell_type": "code",
      "execution_count": 2,
      "metadata": {
        "colab": {
          "base_uri": "https://localhost:8080/"
        },
        "id": "IngQXQWPQckS",
        "outputId": "49ca3be9-0ebe-4c3c-efab-a0c9c8a4999c"
      },
      "outputs": [
        {
          "output_type": "stream",
          "name": "stdout",
          "text": [
            "Drive already mounted at /content/drive; to attempt to forcibly remount, call drive.mount(\"/content/drive\", force_remount=True).\n"
          ]
        }
      ],
      "source": [
        "from google.colab import drive\n",
        "drive.mount('/content/drive')"
      ]
    },
    {
      "cell_type": "code",
      "execution_count": 3,
      "metadata": {
        "colab": {
          "base_uri": "https://localhost:8080/"
        },
        "id": "sw6VBZqAQ4U0",
        "outputId": "f00ceb0a-e3df-42e2-c83c-a1d458da00cf"
      },
      "outputs": [
        {
          "output_type": "stream",
          "name": "stdout",
          "text": [
            "\u001b[0m\u001b[01;34mdrive\u001b[0m/  \u001b[01;34msample_data\u001b[0m/\n"
          ]
        }
      ],
      "source": [
        "ls"
      ]
    },
    {
      "cell_type": "code",
      "execution_count": 4,
      "metadata": {
        "colab": {
          "base_uri": "https://localhost:8080/"
        },
        "id": "RWdPM06UI208",
        "outputId": "c775e92a-9d09-423a-e1b6-ea02d3b9fae5"
      },
      "outputs": [
        {
          "output_type": "stream",
          "name": "stdout",
          "text": [
            "Requirement already satisfied: dask[complete] in /usr/local/lib/python3.11/dist-packages (2024.12.1)\n",
            "Requirement already satisfied: click>=8.1 in /usr/local/lib/python3.11/dist-packages (from dask[complete]) (8.1.8)\n",
            "Requirement already satisfied: cloudpickle>=3.0.0 in /usr/local/lib/python3.11/dist-packages (from dask[complete]) (3.1.1)\n",
            "Requirement already satisfied: fsspec>=2021.09.0 in /usr/local/lib/python3.11/dist-packages (from dask[complete]) (2025.3.0)\n",
            "Requirement already satisfied: packaging>=20.0 in /usr/local/lib/python3.11/dist-packages (from dask[complete]) (24.2)\n",
            "Requirement already satisfied: partd>=1.4.0 in /usr/local/lib/python3.11/dist-packages (from dask[complete]) (1.4.2)\n",
            "Requirement already satisfied: pyyaml>=5.3.1 in /usr/local/lib/python3.11/dist-packages (from dask[complete]) (6.0.2)\n",
            "Requirement already satisfied: toolz>=0.10.0 in /usr/local/lib/python3.11/dist-packages (from dask[complete]) (0.12.1)\n",
            "Requirement already satisfied: importlib_metadata>=4.13.0 in /usr/local/lib/python3.11/dist-packages (from dask[complete]) (8.6.1)\n",
            "Requirement already satisfied: pyarrow>=14.0.1 in /usr/local/lib/python3.11/dist-packages (from dask[complete]) (18.1.0)\n",
            "Requirement already satisfied: lz4>=4.3.2 in /usr/local/lib/python3.11/dist-packages (from dask[complete]) (4.4.3)\n",
            "Requirement already satisfied: zipp>=3.20 in /usr/local/lib/python3.11/dist-packages (from importlib_metadata>=4.13.0->dask[complete]) (3.21.0)\n",
            "Requirement already satisfied: locket in /usr/local/lib/python3.11/dist-packages (from partd>=1.4.0->dask[complete]) (1.0.0)\n",
            "Requirement already satisfied: numpy>=1.24 in /usr/local/lib/python3.11/dist-packages (from dask[complete]) (2.0.2)\n",
            "Requirement already satisfied: pandas>=2.0 in /usr/local/lib/python3.11/dist-packages (from dask[complete]) (2.2.2)\n",
            "Requirement already satisfied: dask-expr<1.2,>=1.1 in /usr/local/lib/python3.11/dist-packages (from dask[complete]) (1.1.21)\n",
            "Requirement already satisfied: distributed==2024.12.1 in /usr/local/lib/python3.11/dist-packages (from dask[complete]) (2024.12.1)\n",
            "Requirement already satisfied: bokeh>=3.1.0 in /usr/local/lib/python3.11/dist-packages (from dask[complete]) (3.6.3)\n",
            "Requirement already satisfied: jinja2>=2.10.3 in /usr/local/lib/python3.11/dist-packages (from dask[complete]) (3.1.6)\n",
            "Requirement already satisfied: msgpack>=1.0.2 in /usr/local/lib/python3.11/dist-packages (from distributed==2024.12.1->dask[complete]) (1.1.0)\n",
            "Requirement already satisfied: psutil>=5.8.0 in /usr/local/lib/python3.11/dist-packages (from distributed==2024.12.1->dask[complete]) (5.9.5)\n",
            "Requirement already satisfied: sortedcontainers>=2.0.5 in /usr/local/lib/python3.11/dist-packages (from distributed==2024.12.1->dask[complete]) (2.4.0)\n",
            "Requirement already satisfied: tblib>=1.6.0 in /usr/local/lib/python3.11/dist-packages (from distributed==2024.12.1->dask[complete]) (3.0.0)\n",
            "Requirement already satisfied: tornado>=6.2.0 in /usr/local/lib/python3.11/dist-packages (from distributed==2024.12.1->dask[complete]) (6.4.2)\n",
            "Requirement already satisfied: urllib3>=1.26.5 in /usr/local/lib/python3.11/dist-packages (from distributed==2024.12.1->dask[complete]) (2.3.0)\n",
            "Requirement already satisfied: zict>=3.0.0 in /usr/local/lib/python3.11/dist-packages (from distributed==2024.12.1->dask[complete]) (3.0.0)\n",
            "Requirement already satisfied: contourpy>=1.2 in /usr/local/lib/python3.11/dist-packages (from bokeh>=3.1.0->dask[complete]) (1.3.1)\n",
            "Requirement already satisfied: pillow>=7.1.0 in /usr/local/lib/python3.11/dist-packages (from bokeh>=3.1.0->dask[complete]) (11.1.0)\n",
            "Requirement already satisfied: xyzservices>=2021.09.1 in /usr/local/lib/python3.11/dist-packages (from bokeh>=3.1.0->dask[complete]) (2025.1.0)\n",
            "Requirement already satisfied: MarkupSafe>=2.0 in /usr/local/lib/python3.11/dist-packages (from jinja2>=2.10.3->dask[complete]) (3.0.2)\n",
            "Requirement already satisfied: python-dateutil>=2.8.2 in /usr/local/lib/python3.11/dist-packages (from pandas>=2.0->dask[complete]) (2.8.2)\n",
            "Requirement already satisfied: pytz>=2020.1 in /usr/local/lib/python3.11/dist-packages (from pandas>=2.0->dask[complete]) (2025.1)\n",
            "Requirement already satisfied: tzdata>=2022.7 in /usr/local/lib/python3.11/dist-packages (from pandas>=2.0->dask[complete]) (2025.1)\n",
            "Requirement already satisfied: six>=1.5 in /usr/local/lib/python3.11/dist-packages (from python-dateutil>=2.8.2->pandas>=2.0->dask[complete]) (1.17.0)\n"
          ]
        }
      ],
      "source": [
        "!pip install \"dask[complete]\""
      ]
    },
    {
      "cell_type": "code",
      "execution_count": 5,
      "metadata": {
        "id": "dI_jkXIpRCrb"
      },
      "outputs": [],
      "source": [
        "# import libraries\n",
        "import sys\n",
        "import os\n",
        "\n",
        "## import dask libraries\n",
        "import dask.dataframe as dd\n",
        "from dask.diagnostics import ProgressBar\n",
        "\n",
        "# import libraries\n",
        "import pandas as pd"
      ]
    },
    {
      "cell_type": "code",
      "execution_count": 6,
      "metadata": {
        "colab": {
          "base_uri": "https://localhost:8080/"
        },
        "id": "s7bRhBP1RMWM",
        "outputId": "8165d84e-7b2b-4a3a-dc57-905014372d55"
      },
      "outputs": [
        {
          "output_type": "stream",
          "name": "stdout",
          "text": [
            " /usr/bin/python3\n",
            " /content\n"
          ]
        }
      ],
      "source": [
        "cwd = os.getcwd()\n",
        "\n",
        "# print\n",
        "print('', sys.executable)\n",
        "print('', cwd)"
      ]
    },
    {
      "cell_type": "markdown",
      "metadata": {
        "id": "6urWGTT4RScT"
      },
      "source": [
        "`2.1.2.` **Загрузить данные.**"
      ]
    },
    {
      "cell_type": "code",
      "execution_count": 7,
      "metadata": {
        "id": "zQTZSQqIS0IA",
        "colab": {
          "base_uri": "https://localhost:8080/",
          "height": 55
        },
        "outputId": "470b1654-f4d4-4ed2-be4d-fc8d114dcdc6"
      },
      "outputs": [
        {
          "output_type": "display_data",
          "data": {
            "text/plain": [
              "<IPython.core.display.HTML object>"
            ],
            "text/html": [
              "\n",
              "     <input type=\"file\" id=\"files-4d57edfa-2c82-4509-bdae-ff2a2f58e6eb\" name=\"files[]\" multiple disabled\n",
              "        style=\"border:none\" />\n",
              "     <output id=\"result-4d57edfa-2c82-4509-bdae-ff2a2f58e6eb\">\n",
              "      Upload widget is only available when the cell has been executed in the\n",
              "      current browser session. Please rerun this cell to enable.\n",
              "      </output>\n",
              "      <script>// Copyright 2017 Google LLC\n",
              "//\n",
              "// Licensed under the Apache License, Version 2.0 (the \"License\");\n",
              "// you may not use this file except in compliance with the License.\n",
              "// You may obtain a copy of the License at\n",
              "//\n",
              "//      http://www.apache.org/licenses/LICENSE-2.0\n",
              "//\n",
              "// Unless required by applicable law or agreed to in writing, software\n",
              "// distributed under the License is distributed on an \"AS IS\" BASIS,\n",
              "// WITHOUT WARRANTIES OR CONDITIONS OF ANY KIND, either express or implied.\n",
              "// See the License for the specific language governing permissions and\n",
              "// limitations under the License.\n",
              "\n",
              "/**\n",
              " * @fileoverview Helpers for google.colab Python module.\n",
              " */\n",
              "(function(scope) {\n",
              "function span(text, styleAttributes = {}) {\n",
              "  const element = document.createElement('span');\n",
              "  element.textContent = text;\n",
              "  for (const key of Object.keys(styleAttributes)) {\n",
              "    element.style[key] = styleAttributes[key];\n",
              "  }\n",
              "  return element;\n",
              "}\n",
              "\n",
              "// Max number of bytes which will be uploaded at a time.\n",
              "const MAX_PAYLOAD_SIZE = 100 * 1024;\n",
              "\n",
              "function _uploadFiles(inputId, outputId) {\n",
              "  const steps = uploadFilesStep(inputId, outputId);\n",
              "  const outputElement = document.getElementById(outputId);\n",
              "  // Cache steps on the outputElement to make it available for the next call\n",
              "  // to uploadFilesContinue from Python.\n",
              "  outputElement.steps = steps;\n",
              "\n",
              "  return _uploadFilesContinue(outputId);\n",
              "}\n",
              "\n",
              "// This is roughly an async generator (not supported in the browser yet),\n",
              "// where there are multiple asynchronous steps and the Python side is going\n",
              "// to poll for completion of each step.\n",
              "// This uses a Promise to block the python side on completion of each step,\n",
              "// then passes the result of the previous step as the input to the next step.\n",
              "function _uploadFilesContinue(outputId) {\n",
              "  const outputElement = document.getElementById(outputId);\n",
              "  const steps = outputElement.steps;\n",
              "\n",
              "  const next = steps.next(outputElement.lastPromiseValue);\n",
              "  return Promise.resolve(next.value.promise).then((value) => {\n",
              "    // Cache the last promise value to make it available to the next\n",
              "    // step of the generator.\n",
              "    outputElement.lastPromiseValue = value;\n",
              "    return next.value.response;\n",
              "  });\n",
              "}\n",
              "\n",
              "/**\n",
              " * Generator function which is called between each async step of the upload\n",
              " * process.\n",
              " * @param {string} inputId Element ID of the input file picker element.\n",
              " * @param {string} outputId Element ID of the output display.\n",
              " * @return {!Iterable<!Object>} Iterable of next steps.\n",
              " */\n",
              "function* uploadFilesStep(inputId, outputId) {\n",
              "  const inputElement = document.getElementById(inputId);\n",
              "  inputElement.disabled = false;\n",
              "\n",
              "  const outputElement = document.getElementById(outputId);\n",
              "  outputElement.innerHTML = '';\n",
              "\n",
              "  const pickedPromise = new Promise((resolve) => {\n",
              "    inputElement.addEventListener('change', (e) => {\n",
              "      resolve(e.target.files);\n",
              "    });\n",
              "  });\n",
              "\n",
              "  const cancel = document.createElement('button');\n",
              "  inputElement.parentElement.appendChild(cancel);\n",
              "  cancel.textContent = 'Cancel upload';\n",
              "  const cancelPromise = new Promise((resolve) => {\n",
              "    cancel.onclick = () => {\n",
              "      resolve(null);\n",
              "    };\n",
              "  });\n",
              "\n",
              "  // Wait for the user to pick the files.\n",
              "  const files = yield {\n",
              "    promise: Promise.race([pickedPromise, cancelPromise]),\n",
              "    response: {\n",
              "      action: 'starting',\n",
              "    }\n",
              "  };\n",
              "\n",
              "  cancel.remove();\n",
              "\n",
              "  // Disable the input element since further picks are not allowed.\n",
              "  inputElement.disabled = true;\n",
              "\n",
              "  if (!files) {\n",
              "    return {\n",
              "      response: {\n",
              "        action: 'complete',\n",
              "      }\n",
              "    };\n",
              "  }\n",
              "\n",
              "  for (const file of files) {\n",
              "    const li = document.createElement('li');\n",
              "    li.append(span(file.name, {fontWeight: 'bold'}));\n",
              "    li.append(span(\n",
              "        `(${file.type || 'n/a'}) - ${file.size} bytes, ` +\n",
              "        `last modified: ${\n",
              "            file.lastModifiedDate ? file.lastModifiedDate.toLocaleDateString() :\n",
              "                                    'n/a'} - `));\n",
              "    const percent = span('0% done');\n",
              "    li.appendChild(percent);\n",
              "\n",
              "    outputElement.appendChild(li);\n",
              "\n",
              "    const fileDataPromise = new Promise((resolve) => {\n",
              "      const reader = new FileReader();\n",
              "      reader.onload = (e) => {\n",
              "        resolve(e.target.result);\n",
              "      };\n",
              "      reader.readAsArrayBuffer(file);\n",
              "    });\n",
              "    // Wait for the data to be ready.\n",
              "    let fileData = yield {\n",
              "      promise: fileDataPromise,\n",
              "      response: {\n",
              "        action: 'continue',\n",
              "      }\n",
              "    };\n",
              "\n",
              "    // Use a chunked sending to avoid message size limits. See b/62115660.\n",
              "    let position = 0;\n",
              "    do {\n",
              "      const length = Math.min(fileData.byteLength - position, MAX_PAYLOAD_SIZE);\n",
              "      const chunk = new Uint8Array(fileData, position, length);\n",
              "      position += length;\n",
              "\n",
              "      const base64 = btoa(String.fromCharCode.apply(null, chunk));\n",
              "      yield {\n",
              "        response: {\n",
              "          action: 'append',\n",
              "          file: file.name,\n",
              "          data: base64,\n",
              "        },\n",
              "      };\n",
              "\n",
              "      let percentDone = fileData.byteLength === 0 ?\n",
              "          100 :\n",
              "          Math.round((position / fileData.byteLength) * 100);\n",
              "      percent.textContent = `${percentDone}% done`;\n",
              "\n",
              "    } while (position < fileData.byteLength);\n",
              "  }\n",
              "\n",
              "  // All done.\n",
              "  yield {\n",
              "    response: {\n",
              "      action: 'complete',\n",
              "    }\n",
              "  };\n",
              "}\n",
              "\n",
              "scope.google = scope.google || {};\n",
              "scope.google.colab = scope.google.colab || {};\n",
              "scope.google.colab._files = {\n",
              "  _uploadFiles,\n",
              "  _uploadFilesContinue,\n",
              "};\n",
              "})(self);\n",
              "</script> "
            ]
          },
          "metadata": {}
        },
        {
          "output_type": "execute_result",
          "data": {
            "text/plain": [
              "{}"
            ]
          },
          "metadata": {},
          "execution_count": 7
        }
      ],
      "source": [
        "from google.colab import files\n",
        "files.upload()"
      ]
    },
    {
      "cell_type": "code",
      "source": [
        "cd drive/MyDrive/"
      ],
      "metadata": {
        "colab": {
          "base_uri": "https://localhost:8080/"
        },
        "id": "nr8DjrUp6MFs",
        "outputId": "fe64cb4c-b901-400e-8862-2049741fe1c3"
      },
      "execution_count": 8,
      "outputs": [
        {
          "output_type": "stream",
          "name": "stdout",
          "text": [
            "/content/drive/MyDrive\n"
          ]
        }
      ]
    },
    {
      "cell_type": "code",
      "execution_count": 19,
      "metadata": {
        "id": "cTD87JaFTAPS",
        "colab": {
          "base_uri": "https://localhost:8080/",
          "height": 272
        },
        "outputId": "a4ed6916-1eaf-4988-a983-5d9ae89110a0"
      },
      "outputs": [
        {
          "output_type": "execute_result",
          "data": {
            "text/plain": [
              "Dask DataFrame Structure:\n",
              "               {F887F88E-7D15-4415-804E-52EAC2F10958}  70000 1995-07-07 00:00 MK15 9HP       D       N       F      31 Unnamed: 8 ALDRICH DRIVE  WILLEN MILTON KEYNES MILTON KEYNES.1 MILTON KEYNES.2       A     A.1\n",
              "npartitions=77                                                                                                                                                                                                       \n",
              "                                               string  int64           string   string  string  string  string  string     string        string  string        string          string          string  string  string\n",
              "                                                  ...    ...              ...      ...     ...     ...     ...     ...        ...           ...     ...           ...             ...             ...     ...     ...\n",
              "...                                               ...    ...              ...      ...     ...     ...     ...     ...        ...           ...     ...           ...             ...             ...     ...     ...\n",
              "                                                  ...    ...              ...      ...     ...     ...     ...     ...        ...           ...     ...           ...             ...             ...     ...     ...\n",
              "                                                  ...    ...              ...      ...     ...     ...     ...     ...        ...           ...     ...           ...             ...             ...     ...     ...\n",
              "Dask Name: to_string_dtype, 2 expressions\n",
              "Expr=ArrowStringConversion(frame=FromMapProjectable(b252f01))"
            ],
            "text/html": [
              "<div><strong>Dask DataFrame Structure:</strong></div>\n",
              "<table border=\"1\" class=\"dataframe\">\n",
              "  <thead>\n",
              "    <tr style=\"text-align: right;\">\n",
              "      <th></th>\n",
              "      <th>{F887F88E-7D15-4415-804E-52EAC2F10958}</th>\n",
              "      <th>70000</th>\n",
              "      <th>1995-07-07 00:00</th>\n",
              "      <th>MK15 9HP</th>\n",
              "      <th>D</th>\n",
              "      <th>N</th>\n",
              "      <th>F</th>\n",
              "      <th>31</th>\n",
              "      <th>Unnamed: 8</th>\n",
              "      <th>ALDRICH DRIVE</th>\n",
              "      <th>WILLEN</th>\n",
              "      <th>MILTON KEYNES</th>\n",
              "      <th>MILTON KEYNES.1</th>\n",
              "      <th>MILTON KEYNES.2</th>\n",
              "      <th>A</th>\n",
              "      <th>A.1</th>\n",
              "    </tr>\n",
              "    <tr>\n",
              "      <th>npartitions=77</th>\n",
              "      <th></th>\n",
              "      <th></th>\n",
              "      <th></th>\n",
              "      <th></th>\n",
              "      <th></th>\n",
              "      <th></th>\n",
              "      <th></th>\n",
              "      <th></th>\n",
              "      <th></th>\n",
              "      <th></th>\n",
              "      <th></th>\n",
              "      <th></th>\n",
              "      <th></th>\n",
              "      <th></th>\n",
              "      <th></th>\n",
              "      <th></th>\n",
              "    </tr>\n",
              "  </thead>\n",
              "  <tbody>\n",
              "    <tr>\n",
              "      <th></th>\n",
              "      <td>string</td>\n",
              "      <td>int64</td>\n",
              "      <td>string</td>\n",
              "      <td>string</td>\n",
              "      <td>string</td>\n",
              "      <td>string</td>\n",
              "      <td>string</td>\n",
              "      <td>string</td>\n",
              "      <td>string</td>\n",
              "      <td>string</td>\n",
              "      <td>string</td>\n",
              "      <td>string</td>\n",
              "      <td>string</td>\n",
              "      <td>string</td>\n",
              "      <td>string</td>\n",
              "      <td>string</td>\n",
              "    </tr>\n",
              "    <tr>\n",
              "      <th></th>\n",
              "      <td>...</td>\n",
              "      <td>...</td>\n",
              "      <td>...</td>\n",
              "      <td>...</td>\n",
              "      <td>...</td>\n",
              "      <td>...</td>\n",
              "      <td>...</td>\n",
              "      <td>...</td>\n",
              "      <td>...</td>\n",
              "      <td>...</td>\n",
              "      <td>...</td>\n",
              "      <td>...</td>\n",
              "      <td>...</td>\n",
              "      <td>...</td>\n",
              "      <td>...</td>\n",
              "      <td>...</td>\n",
              "    </tr>\n",
              "    <tr>\n",
              "      <th>...</th>\n",
              "      <td>...</td>\n",
              "      <td>...</td>\n",
              "      <td>...</td>\n",
              "      <td>...</td>\n",
              "      <td>...</td>\n",
              "      <td>...</td>\n",
              "      <td>...</td>\n",
              "      <td>...</td>\n",
              "      <td>...</td>\n",
              "      <td>...</td>\n",
              "      <td>...</td>\n",
              "      <td>...</td>\n",
              "      <td>...</td>\n",
              "      <td>...</td>\n",
              "      <td>...</td>\n",
              "      <td>...</td>\n",
              "    </tr>\n",
              "    <tr>\n",
              "      <th></th>\n",
              "      <td>...</td>\n",
              "      <td>...</td>\n",
              "      <td>...</td>\n",
              "      <td>...</td>\n",
              "      <td>...</td>\n",
              "      <td>...</td>\n",
              "      <td>...</td>\n",
              "      <td>...</td>\n",
              "      <td>...</td>\n",
              "      <td>...</td>\n",
              "      <td>...</td>\n",
              "      <td>...</td>\n",
              "      <td>...</td>\n",
              "      <td>...</td>\n",
              "      <td>...</td>\n",
              "      <td>...</td>\n",
              "    </tr>\n",
              "    <tr>\n",
              "      <th></th>\n",
              "      <td>...</td>\n",
              "      <td>...</td>\n",
              "      <td>...</td>\n",
              "      <td>...</td>\n",
              "      <td>...</td>\n",
              "      <td>...</td>\n",
              "      <td>...</td>\n",
              "      <td>...</td>\n",
              "      <td>...</td>\n",
              "      <td>...</td>\n",
              "      <td>...</td>\n",
              "      <td>...</td>\n",
              "      <td>...</td>\n",
              "      <td>...</td>\n",
              "      <td>...</td>\n",
              "      <td>...</td>\n",
              "    </tr>\n",
              "  </tbody>\n",
              "</table>\n",
              "<div>Dask Name: to_string_dtype, 2 expressions</div>"
            ]
          },
          "metadata": {},
          "execution_count": 19
        }
      ],
      "source": [
        "## read data using DataFrame API\n",
        "df = dd.read_csv('202304.csv',dtype={'31': 'object',\n",
        "       'Unnamed: 8': 'object'} )\n",
        "df"
      ]
    },
    {
      "cell_type": "markdown",
      "metadata": {
        "id": "MVHVB2vxTbjW"
      },
      "source": [
        "Обратите внимание, что\n",
        "\n",
        "- `metadata` отображаются в кадре вместо образца данных\n",
        "синтаксис очень похож на API Pandas.\n",
        "\n",
        "- `# partitions` — это количество разбиений, используемых для разделения основного набора данных. Оптимальное количество определяется планировщиком, который разделяет `DataFrame Pandas` на более мелкие фрагменты. В этом случае размер каждого раздела составляет ~64 МБ (т. е. размер набора данных/npartitions = 2 ГБ/33). Если у нас есть один рабочий процесс, Dask будет переключаться на каждый раздел по одному.\n",
        "\n",
        "- `data types` сообщаются под каждым именем столбца (аналогично описанию метода в Pandas, однако выполняется путем случайной выборки, поскольку данные разбросаны по нескольким физическим машинам). Хорошей практикой является явное определение типов данных вместо того, чтобы полагаться на вывод Dask (в идеале хранить в двоичном формате).\n",
        "\n",
        "- `Dask Name` сообщает имя группы обеспечения доступности баз данных (т.е. с задержкой).\n",
        "\n",
        "- `# tasks` — это количество узлов в группе, которые обеспечивают доступность к данным. Вы можете представить задачу как функцию `Python`, и в этом случае каждая задача выполняет три задачи:\n",
        "\n",
        "1) чтение необработанных данных,\n",
        "\n",
        "2) разделение данных на соответствующие блоки,\n",
        "\n",
        "3) инициализация объекта `DataFrame`."
      ]
    },
    {
      "cell_type": "markdown",
      "metadata": {
        "id": "hXxWxOHVWmMp"
      },
      "source": [
        "`2.1.3.` **Проверить качество данных (например, отсутствующие значения и выбросы).**"
      ]
    },
    {
      "cell_type": "code",
      "execution_count": 20,
      "metadata": {
        "id": "Rx_EQ0fKUT2-",
        "colab": {
          "base_uri": "https://localhost:8080/"
        },
        "outputId": "9d918452-8e17-4d89-a81d-005c3bfdad70"
      },
      "outputs": [
        {
          "output_type": "execute_result",
          "data": {
            "text/plain": [
              "Dask Series Structure:\n",
              "npartitions=1\n",
              "1995-07-07 00:00                          int64\n",
              "{F887F88E-7D15-4415-804E-52EAC2F10958}      ...\n",
              "Dask Name: sum, 5 expressions\n",
              "Expr=(~ NotNull(frame=ArrowStringConversion(frame=FromMapProjectable(b252f01)))).sum()"
            ]
          },
          "metadata": {},
          "execution_count": 20
        }
      ],
      "source": [
        "# count missing values\n",
        "missing_values = df.isnull().sum()\n",
        "missing_values"
      ]
    },
    {
      "cell_type": "markdown",
      "metadata": {
        "id": "gPAtFBJuW1fp"
      },
      "source": [
        "Обратите внимание на то, что:\n",
        "\n",
        "Созданный объект `dask` представляет собой серию, содержащую метаданные, а синтаксис очень похож на `API Pandas`, обработка еще не завершена, вместо этого `Dask` подготовил `DAG`, сохраненный в переменной пропущенных значений (преимущество быстрого построения графика без необходимости ждать вычислений)\n",
        "\n",
        "Количество задач увеличилось, поскольку были добавлены `2` задачи (т. е. проверка недостающих значений и суммы) для каждого из `32` разделов, а также окончательное добавление для агрегирования результатов по всем разделам, в общей сложности их - `4`."
      ]
    },
    {
      "cell_type": "code",
      "execution_count": 21,
      "metadata": {
        "id": "O-xMhqs7YHS8",
        "colab": {
          "base_uri": "https://localhost:8080/"
        },
        "outputId": "5f8a37cf-3203-48e5-b040-c2457e2fe31e"
      },
      "outputs": [
        {
          "output_type": "execute_result",
          "data": {
            "text/plain": [
              "Dask Series Structure:\n",
              "npartitions=1\n",
              "1995-07-07 00:00                          float64\n",
              "{F887F88E-7D15-4415-804E-52EAC2F10958}        ...\n",
              "Dask Name: mul, 9 expressions\n",
              "Expr=(~ NotNull(frame=ArrowStringConversion(frame=FromMapProjectable(b252f01)))).sum() / Index(frame=ArrowStringConversion(frame=FromMapProjectable(b252f01))).size() * 100"
            ]
          },
          "metadata": {},
          "execution_count": 21
        }
      ],
      "source": [
        "# calculate percent missing values\n",
        "mysize = df.index.size\n",
        "missing_count = ((missing_values / mysize) * 100)\n",
        "missing_count"
      ]
    },
    {
      "cell_type": "markdown",
      "metadata": {
        "id": "Wytr0Ab_YdSI"
      },
      "source": [
        "Обратите внимание на то, что:\n",
        "\n",
        "- созданный объект `dask` представляет собой серию, и вычисление еще не завершено.\n",
        "\n",
        "- `df.index.size` — это объект `dask` `dask.dataframe.core.Scalar`. Вы не можете получить доступ к его значению/длине напрямую, как если бы вы это делали со списком (например, `len()`). Это противоречило бы всей идее `dask` (т.е. прочитать весь набор данных).\n",
        "\n",
        "- `# tasks` количество задач увеличилось, так как были добавлены `2` задачи (т.е. деление и умножение).\n",
        "\n",
        "-  `data type` изменен с `int64` на `float64`. Dask автоматически преобразовал его, если тип данных на выходе  не совпадает с входным после разделения."
      ]
    },
    {
      "cell_type": "code",
      "execution_count": 23,
      "metadata": {
        "id": "qjsywWWlXdU-",
        "colab": {
          "base_uri": "https://localhost:8080/",
          "height": 604
        },
        "outputId": "a7b15092-5d90-4f70-a59f-14b0a7a6e969"
      },
      "outputs": [
        {
          "output_type": "stream",
          "name": "stdout",
          "text": [
            "[########################################] | 100% Completed | 197.31 s\n"
          ]
        },
        {
          "output_type": "execute_result",
          "data": {
            "text/plain": [
              "{F887F88E-7D15-4415-804E-52EAC2F10958}     0.000000\n",
              "70000                                      0.000000\n",
              "1995-07-07 00:00                           0.000000\n",
              "MK15 9HP                                   0.162571\n",
              "D                                          0.000000\n",
              "N                                          0.000000\n",
              "F                                          0.000000\n",
              "31                                         0.014815\n",
              "Unnamed: 8                                88.237964\n",
              "ALDRICH DRIVE                              1.583507\n",
              "WILLEN                                    35.669013\n",
              "MILTON KEYNES                              0.000000\n",
              "MILTON KEYNES.1                            0.000000\n",
              "MILTON KEYNES.2                            0.000000\n",
              "A                                          0.000000\n",
              "A.1                                        0.000000\n",
              "dtype: float64"
            ],
            "text/html": [
              "<div>\n",
              "<style scoped>\n",
              "    .dataframe tbody tr th:only-of-type {\n",
              "        vertical-align: middle;\n",
              "    }\n",
              "\n",
              "    .dataframe tbody tr th {\n",
              "        vertical-align: top;\n",
              "    }\n",
              "\n",
              "    .dataframe thead th {\n",
              "        text-align: right;\n",
              "    }\n",
              "</style>\n",
              "<table border=\"1\" class=\"dataframe\">\n",
              "  <thead>\n",
              "    <tr style=\"text-align: right;\">\n",
              "      <th></th>\n",
              "      <th>0</th>\n",
              "    </tr>\n",
              "  </thead>\n",
              "  <tbody>\n",
              "    <tr>\n",
              "      <th>{F887F88E-7D15-4415-804E-52EAC2F10958}</th>\n",
              "      <td>0.000000</td>\n",
              "    </tr>\n",
              "    <tr>\n",
              "      <th>70000</th>\n",
              "      <td>0.000000</td>\n",
              "    </tr>\n",
              "    <tr>\n",
              "      <th>1995-07-07 00:00</th>\n",
              "      <td>0.000000</td>\n",
              "    </tr>\n",
              "    <tr>\n",
              "      <th>MK15 9HP</th>\n",
              "      <td>0.162571</td>\n",
              "    </tr>\n",
              "    <tr>\n",
              "      <th>D</th>\n",
              "      <td>0.000000</td>\n",
              "    </tr>\n",
              "    <tr>\n",
              "      <th>N</th>\n",
              "      <td>0.000000</td>\n",
              "    </tr>\n",
              "    <tr>\n",
              "      <th>F</th>\n",
              "      <td>0.000000</td>\n",
              "    </tr>\n",
              "    <tr>\n",
              "      <th>31</th>\n",
              "      <td>0.014815</td>\n",
              "    </tr>\n",
              "    <tr>\n",
              "      <th>Unnamed: 8</th>\n",
              "      <td>88.237964</td>\n",
              "    </tr>\n",
              "    <tr>\n",
              "      <th>ALDRICH DRIVE</th>\n",
              "      <td>1.583507</td>\n",
              "    </tr>\n",
              "    <tr>\n",
              "      <th>WILLEN</th>\n",
              "      <td>35.669013</td>\n",
              "    </tr>\n",
              "    <tr>\n",
              "      <th>MILTON KEYNES</th>\n",
              "      <td>0.000000</td>\n",
              "    </tr>\n",
              "    <tr>\n",
              "      <th>MILTON KEYNES.1</th>\n",
              "      <td>0.000000</td>\n",
              "    </tr>\n",
              "    <tr>\n",
              "      <th>MILTON KEYNES.2</th>\n",
              "      <td>0.000000</td>\n",
              "    </tr>\n",
              "    <tr>\n",
              "      <th>A</th>\n",
              "      <td>0.000000</td>\n",
              "    </tr>\n",
              "    <tr>\n",
              "      <th>A.1</th>\n",
              "      <td>0.000000</td>\n",
              "    </tr>\n",
              "  </tbody>\n",
              "</table>\n",
              "</div><br><label><b>dtype:</b> float64</label>"
            ]
          },
          "metadata": {},
          "execution_count": 23
        }
      ],
      "source": [
        "# запуск вычисления, используя метод подсчета\n",
        "with ProgressBar():\n",
        "  missing_count_percent = missing_count.compute()\n",
        "missing_count_percent"
      ]
    },
    {
      "cell_type": "markdown",
      "metadata": {
        "id": "fXZlDoo-cf4r"
      },
      "source": [
        "Обратите внимание на то, что:\n",
        "\n",
        "- метод `.compute()` необходим для запуска действий, встроенных в каждый узел группы обеспечения доступности баз данных.\n",
        "\n",
        "- Результаты метода вычислений сохраняются в серии `Pandas`.\n",
        "\n",
        "- `ProgressBar()` — это оболочка для отслеживания запущенных задач. Он показывает завершенную работу.\n",
        "\n",
        "Видим, что не все столбцы являются неполными, и нам следует их удалить."
      ]
    },
    {
      "cell_type": "markdown",
      "metadata": {
        "id": "VxRy4FPQdQPo"
      },
      "source": [
        "`2.1.4.` **Удалить столбцы (пропуски в значениях, бесполезные столбцы для анализа).**"
      ]
    },
    {
      "cell_type": "code",
      "execution_count": 26,
      "metadata": {
        "id": "oOj6p0AGdLTp",
        "colab": {
          "base_uri": "https://localhost:8080/"
        },
        "outputId": "f265d5ab-73de-46eb-dd8f-d3bc4ab74b45"
      },
      "outputs": [
        {
          "output_type": "stream",
          "name": "stdout",
          "text": [
            "Index(['Unnamed: 8'], dtype='object')\n"
          ]
        }
      ],
      "source": [
        "# операция фильтрации разреженных столбцов (более 60% пропущенных значений) и сохраняем оставшиеся\n",
        "columns_to_drop = missing_count_percent[missing_count_percent > 60].index\n",
        "print(columns_to_drop)"
      ]
    },
    {
      "cell_type": "code",
      "source": [
        "# drop sparse columns\n",
        "with ProgressBar():\n",
        "    #df_dropped = df.drop(columns_to_drop, axis=1).persist()\n",
        "    df_dropped = df.drop(columns=columns_to_drop).compute()"
      ],
      "metadata": {
        "colab": {
          "base_uri": "https://localhost:8080/"
        },
        "id": "vLTXD0-xCDG-",
        "outputId": "2f983851-eae1-42ac-9247-8f3f26c133a1"
      },
      "execution_count": 29,
      "outputs": [
        {
          "output_type": "stream",
          "name": "stdout",
          "text": [
            "[########################################] | 100% Completed | 194.02 s\n"
          ]
        }
      ]
    },
    {
      "cell_type": "markdown",
      "metadata": {
        "id": "THkb2QD0d2S5"
      },
      "source": [
        "Обратите внимание на то, что:\n",
        "\n",
        "- использовать `Pandas Series` для удаления столбцов в `Dask DataFrame`, поскольку каждый раздел является `Pandas DataFrame`.\n",
        "\n",
        "- В случае, если серия доступна для всех потоков, в кластере она будет сериализована и широковещательно передана всем рабочим узлам.\n",
        "\n",
        "- Метод `.persist()` позволяет хранить в памяти промежуточные вычисления, чтобы их можно было использовать повторно."
      ]
    },
    {
      "cell_type": "markdown",
      "metadata": {
        "id": "D9fnbeg6fECg"
      },
      "source": [
        "# Практическая работа 2.2. Визуализация ориентированных ациклических графов (DAG)\n",
        "\n",
        "- `DASK` использует библиотеку `Graviz` для создания визуального представления групп `DAG`, созданных планировщиком.\n",
        "\n",
        "- и спользуйте метод `.visualize()` для проверки групп `DAG DataFrames`, `Series`, `Bag` и массивов.\n",
        "\n",
        "Для упрощения будем использовать объект `Dask Delayed` вместо `DataFrames`, поскольку они становятся довольно большими и их трудно визуализировать.\n",
        "\n",
        "- `Delayed` — это конструктор, который позволяет обертывать функции и создавать объекты `Dask Delayed`, эквивалентные узлу в `DAG`. Объединяя захваченные объекты, создаем группу доступа к данным.\n",
        "\n",
        "Ниже приведены два примера: в первом  `DAG` только с одним узлом и зависимостями, а во втором  - `DAG` с несколькими узлами и зависимостями.\n",
        "\n",
        "**Задание.**\n",
        "\n",
        "`2.2.1.` Визуализировать `DAG` с одним узлом и зависимостями.\n",
        "\n",
        "`2.2.1.` Визуализировать `DAG` с более чем одним узлом и зависимостями.\n",
        "\n"
      ]
    },
    {
      "cell_type": "markdown",
      "metadata": {
        "id": "eDXjg75dgkTk"
      },
      "source": [
        "`2.1.1.` **Визуализировать `DAG` с одним узлом и зависимостями.**"
      ]
    },
    {
      "cell_type": "code",
      "execution_count": 30,
      "metadata": {
        "id": "N0ObNZxJe8q4"
      },
      "outputs": [],
      "source": [
        "# import library\n",
        "import dask.delayed as delayed"
      ]
    },
    {
      "cell_type": "code",
      "execution_count": 31,
      "metadata": {
        "id": "3kczecMqgt4J",
        "colab": {
          "base_uri": "https://localhost:8080/",
          "height": 469
        },
        "outputId": "01bd3b12-1451-4596-affa-ab2b3485b4aa"
      },
      "outputs": [
        {
          "output_type": "execute_result",
          "data": {
            "image/png": "[encoded data removed]",
            "text/plain": [
              "<IPython.core.display.Image object>"
            ]
          },
          "metadata": {},
          "execution_count": 31
        }
      ],
      "source": [
        "def increment(i):\n",
        "    return i + 1\n",
        "\n",
        "def add(x, y):\n",
        "    return x + y\n",
        "\n",
        "# функции переноса внутри отложенного объекта и цепочки\n",
        "x = delayed(increment)(1)\n",
        "y = delayed(increment)(2)\n",
        "z = delayed(add)(x, y)\n",
        "\n",
        "# visualize the DAG\n",
        "z.visualize()"
      ]
    },
    {
      "cell_type": "code",
      "execution_count": 32,
      "metadata": {
        "id": "Q6TfyGFUg_UB",
        "colab": {
          "base_uri": "https://localhost:8080/"
        },
        "outputId": "ac7d2a90-ac11-4e31-afcf-bbb2839e086b"
      },
      "outputs": [
        {
          "output_type": "execute_result",
          "data": {
            "text/plain": [
              "5"
            ]
          },
          "metadata": {},
          "execution_count": 32
        }
      ],
      "source": [
        "# show the result\n",
        "z.compute()"
      ]
    },
    {
      "cell_type": "markdown",
      "metadata": {
        "id": "ybh2DgYEhDNZ"
      },
      "source": [
        "Обратите внимание на то, что:\n",
        "\n",
        "- Чтобы построить узел, в функцию передали захваченный объект, а затем передали аргументы этой функции. Можно использовать декораторы.\n",
        "\n",
        "- Круги указывают на функцию и вычисления, а квадраты — промежуточный или конечный результат.\n",
        "\n",
        "- Входящие стрелки представляют зависимости. Функция `increment` не имеет никаких зависимостей, а функция `add` — две. Таким образом, функция `add`  должна ждать, пока не будут вычислены объекты `x` и `y`.\n",
        "\n",
        "- Функции без зависимостей могут вычисляться независимо, и каждой из них можно назначить `workera`.\n",
        "\n",
        "- Используйте метод `.visualize()` на последнем узле с зависимостями.\n",
        "\n",
        "- `Dask` не расчитывает `DAG`. Используйте метод `.compute()` на последнем узле, чтобы увидеть результат."
      ]
    },
    {
      "cell_type": "markdown",
      "metadata": {
        "id": "IqhURXTRjH3b"
      },
      "source": [
        "`2.2.2.` **Визуализировать `DAG` с более чем одним узлом и зависимостями.**\n",
        "\n",
        "построить более сложную группу `DAG` с двумя уровнями:\n",
        "\n",
        "- `Layer1` создается путем циклического перебора списка данных  в ​`​dask` . Этот слой объединяет ранее созданное приращение функции со значениями в списке, а затем использует встроенное суммирование функции для объединения результатов;\n",
        "\n",
        "- `Layer2` построен циклически для каждого объекта, созданного в `Layer1`."
      ]
    },
    {
      "cell_type": "code",
      "execution_count": 33,
      "metadata": {
        "id": "dH49Zt7mjHd5",
        "colab": {
          "base_uri": "https://localhost:8080/",
          "height": 476
        },
        "outputId": "bed1aa84-9e0c-4b02-ccdf-82ebd0031696"
      },
      "outputs": [
        {
          "output_type": "execute_result",
          "data": {
            "image/png": "[encoded data removed]",
            "text/plain": [
              "<IPython.core.display.Image object>"
            ]
          },
          "metadata": {},
          "execution_count": 33
        }
      ],
      "source": [
        "data = [1, 2, 3, 4, 5]\n",
        "\n",
        "# compile first layer and visualize\n",
        "layer1 = [delayed(increment)(i) for i in data]\n",
        "total1 = delayed(sum)(layer1)\n",
        "total1.visualize()"
      ]
    },
    {
      "cell_type": "code",
      "execution_count": 34,
      "metadata": {
        "id": "CrzrC0yAilGJ",
        "colab": {
          "base_uri": "https://localhost:8080/",
          "height": 718
        },
        "outputId": "78d199d3-f4b5-49be-bf7f-f4cd82abbacb"
      },
      "outputs": [
        {
          "output_type": "execute_result",
          "data": {
            "image/png": "[encoded data removed]",
            "text/plain": [
              "<IPython.core.display.Image object>"
            ]
          },
          "metadata": {},
          "execution_count": 34
        }
      ],
      "source": [
        "def double(x):\n",
        "    return x * 2\n",
        "\n",
        "# compile second layer and visualize\n",
        "layer2 = [delayed(double)(j) for j in layer1]\n",
        "total2 = delayed(sum)(layer2)#.persist()\n",
        "total2.visualize()"
      ]
    },
    {
      "cell_type": "code",
      "execution_count": 35,
      "metadata": {
        "id": "WvKa-Xrrj_Jm",
        "colab": {
          "base_uri": "https://localhost:8080/"
        },
        "outputId": "cf8eaf02-c5f5-4157-9e2b-7fb2a9ae4d2a"
      },
      "outputs": [
        {
          "output_type": "execute_result",
          "data": {
            "text/plain": [
              "40"
            ]
          },
          "metadata": {},
          "execution_count": 35
        }
      ],
      "source": [
        "z = total2.compute()\n",
        "z"
      ]
    },
    {
      "cell_type": "markdown",
      "metadata": {
        "id": "TRxGiRSNkGHl"
      },
      "source": [
        "Обратите внимание на то, что:\n",
        "\n",
        "- построение через использование функции,\n",
        "\n",
        "- используем `.persist()`, и результат будет представлен на графике в виде прямоугольника."
      ]
    },
    {
      "cell_type": "code",
      "execution_count": 36,
      "metadata": {
        "id": "EiWjhzMgkeNK",
        "colab": {
          "base_uri": "https://localhost:8080/",
          "height": 657
        },
        "outputId": "d5be7289-b895-447d-9de2-e5672edefbb9"
      },
      "outputs": [
        {
          "output_type": "execute_result",
          "data": {
            "image/svg+xml": "<?xml version=\"1.0\" encoding=\"UTF-8\" standalone=\"no\"?>\n<!DOCTYPE svg PUBLIC \"-//W3C//DTD SVG 1.1//EN\"\n \"http://www.w3.org/Graphics/SVG/1.1/DTD/svg11.dtd\">\n<!-- Generated by graphviz version 2.43.0 (0)\n -->\n<!-- Title: %3 Pages: 1 -->\n<svg width=\"614pt\" height=\"476pt\"\n viewBox=\"0.00 0.00 613.50 476.00\" xmlns=\"http://www.w3.org/2000/svg\" xmlns:xlink=\"http://www.w3.org/1999/xlink\">\n<g id=\"graph0\" class=\"graph\" transform=\"scale(1 1) rotate(0) translate(4 472)\">\n<title>%3</title>\n<polygon fill=\"white\" stroke=\"transparent\" points=\"-4,4 -4,-472 609.5,-472 609.5,4 -4,4\"/>\n<!-- 5889120783653084015 -->\n<g id=\"node1\" class=\"node\">\n<title>5889120783653084015</title>\n<polygon fill=\"none\" stroke=\"black\" points=\"408.5,-468 274.5,-468 274.5,-432 408.5,-432 408.5,-468\"/>\n<text text-anchor=\"middle\" x=\"341.5\" y=\"-445\" font-family=\"Helvetica,sans-Serif\" font-size=\"20.00\">Mul(Div, 100)</text>\n</g>\n<!-- &#45;876138477338524664 -->\n<g id=\"node2\" class=\"node\">\n<title>&#45;876138477338524664</title>\n<polygon fill=\"none\" stroke=\"black\" points=\"416,-396 267,-396 267,-360 416,-360 416,-396\"/>\n<text text-anchor=\"middle\" x=\"341.5\" y=\"-373\" font-family=\"Helvetica,sans-Serif\" font-size=\"20.00\">Div(Sum, Size)</text>\n</g>\n<!-- &#45;876138477338524664&#45;&gt;5889120783653084015 -->\n<g id=\"edge1\" class=\"edge\">\n<title>&#45;876138477338524664&#45;&gt;5889120783653084015</title>\n<path fill=\"none\" stroke=\"black\" d=\"M341.5,-396.3C341.5,-404.02 341.5,-413.29 341.5,-421.89\"/>\n<polygon fill=\"black\" stroke=\"black\" points=\"338,-421.9 341.5,-431.9 345,-421.9 338,-421.9\"/>\n</g>\n<!-- 916656286288824218 -->\n<g id=\"node3\" class=\"node\">\n<title>916656286288824218</title>\n<polygon fill=\"none\" stroke=\"black\" points=\"331.5,-324 213.5,-324 213.5,-288 331.5,-288 331.5,-324\"/>\n<text text-anchor=\"middle\" x=\"272.5\" y=\"-301\" font-family=\"Helvetica,sans-Serif\" font-size=\"20.00\">Size(Index)</text>\n</g>\n<!-- 916656286288824218&#45;&gt;&#45;876138477338524664 -->\n<g id=\"edge2\" class=\"edge\">\n<title>916656286288824218&#45;&gt;&#45;876138477338524664</title>\n<path fill=\"none\" stroke=\"black\" d=\"M289.56,-324.3C298,-332.86 308.32,-343.34 317.54,-352.7\"/>\n<polygon fill=\"black\" stroke=\"black\" points=\"315.13,-355.23 324.64,-359.9 320.11,-350.32 315.13,-355.23\"/>\n</g>\n<!-- &#45;6779897076638560488 -->\n<g id=\"node4\" class=\"node\">\n<title>&#45;6779897076638560488</title>\n<polygon fill=\"none\" stroke=\"black\" points=\"285,-180 0,-180 0,-144 285,-144 285,-180\"/>\n<text text-anchor=\"middle\" x=\"142.5\" y=\"-157\" font-family=\"Helvetica,sans-Serif\" font-size=\"20.00\">Index(ArrowStringConversion)</text>\n</g>\n<!-- &#45;6779897076638560488&#45;&gt;916656286288824218 -->\n<g id=\"edge4\" class=\"edge\">\n<title>&#45;6779897076638560488&#45;&gt;916656286288824218</title>\n<path fill=\"none\" stroke=\"black\" d=\"M158.18,-180.13C181.02,-205.08 223.57,-251.55 249.82,-280.23\"/>\n<polygon fill=\"black\" stroke=\"black\" points=\"247.43,-282.8 256.76,-287.81 252.59,-278.07 247.43,-282.8\"/>\n</g>\n<!-- &#45;7215074482850188409 -->\n<g id=\"node5\" class=\"node\">\n<title>&#45;7215074482850188409</title>\n<polygon fill=\"none\" stroke=\"black\" points=\"509.5,-108 87.5,-108 87.5,-72 509.5,-72 509.5,-108\"/>\n<text text-anchor=\"middle\" x=\"298.5\" y=\"-85\" font-family=\"Helvetica,sans-Serif\" font-size=\"20.00\">ArrowStringConversion(FromMapProjectable)</text>\n</g>\n<!-- &#45;7215074482850188409&#45;&gt;&#45;6779897076638560488 -->\n<g id=\"edge5\" class=\"edge\">\n<title>&#45;7215074482850188409&#45;&gt;&#45;6779897076638560488</title>\n<path fill=\"none\" stroke=\"black\" d=\"M260.34,-108.12C239.11,-117.65 212.49,-129.59 189.93,-139.72\"/>\n<polygon fill=\"black\" stroke=\"black\" points=\"188.23,-136.64 180.54,-143.93 191.09,-143.03 188.23,-136.64\"/>\n</g>\n<!-- &#45;9195080522560861963 -->\n<g id=\"node9\" class=\"node\">\n<title>&#45;9195080522560861963</title>\n<polygon fill=\"none\" stroke=\"black\" points=\"605.5,-180 303.5,-180 303.5,-144 605.5,-144 605.5,-180\"/>\n<text text-anchor=\"middle\" x=\"454.5\" y=\"-157\" font-family=\"Helvetica,sans-Serif\" font-size=\"20.00\">NotNull(ArrowStringConversion)</text>\n</g>\n<!-- &#45;7215074482850188409&#45;&gt;&#45;9195080522560861963 -->\n<g id=\"edge9\" class=\"edge\">\n<title>&#45;7215074482850188409&#45;&gt;&#45;9195080522560861963</title>\n<path fill=\"none\" stroke=\"black\" d=\"M336.66,-108.12C357.89,-117.65 384.51,-129.59 407.07,-139.72\"/>\n<polygon fill=\"black\" stroke=\"black\" points=\"405.91,-143.03 416.46,-143.93 408.77,-136.64 405.91,-143.03\"/>\n</g>\n<!-- 3104306712164888754 -->\n<g id=\"node6\" class=\"node\">\n<title>3104306712164888754</title>\n<polygon fill=\"none\" stroke=\"black\" points=\"400,-36 197,-36 197,0 400,0 400,-36\"/>\n<text text-anchor=\"middle\" x=\"298.5\" y=\"-13\" font-family=\"Helvetica,sans-Serif\" font-size=\"20.00\">FromMapProjectable</text>\n</g>\n<!-- 3104306712164888754&#45;&gt;&#45;7215074482850188409 -->\n<g id=\"edge6\" class=\"edge\">\n<title>3104306712164888754&#45;&gt;&#45;7215074482850188409</title>\n<path fill=\"none\" stroke=\"black\" d=\"M298.5,-36.3C298.5,-44.02 298.5,-53.29 298.5,-61.89\"/>\n<polygon fill=\"black\" stroke=\"black\" points=\"295,-61.9 298.5,-71.9 302,-61.9 295,-61.9\"/>\n</g>\n<!-- &#45;712041701825825780 -->\n<g id=\"node7\" class=\"node\">\n<title>&#45;712041701825825780</title>\n<polygon fill=\"none\" stroke=\"black\" points=\"493,-324 372,-324 372,-288 493,-288 493,-324\"/>\n<text text-anchor=\"middle\" x=\"432.5\" y=\"-301\" font-family=\"Helvetica,sans-Serif\" font-size=\"20.00\">Sum(Invert)</text>\n</g>\n<!-- &#45;712041701825825780&#45;&gt;&#45;876138477338524664 -->\n<g id=\"edge3\" class=\"edge\">\n<title>&#45;712041701825825780&#45;&gt;&#45;876138477338524664</title>\n<path fill=\"none\" stroke=\"black\" d=\"M410.01,-324.3C398.54,-333.12 384.44,-343.97 372.02,-353.53\"/>\n<polygon fill=\"black\" stroke=\"black\" points=\"369.53,-351.02 363.74,-359.9 373.8,-356.57 369.53,-351.02\"/>\n</g>\n<!-- &#45;4912096913398660751 -->\n<g id=\"node8\" class=\"node\">\n<title>&#45;4912096913398660751</title>\n<polygon fill=\"none\" stroke=\"black\" points=\"516,-252 371,-252 371,-216 516,-216 516,-252\"/>\n<text text-anchor=\"middle\" x=\"443.5\" y=\"-229\" font-family=\"Helvetica,sans-Serif\" font-size=\"20.00\">Invert(NotNull)</text>\n</g>\n<!-- &#45;4912096913398660751&#45;&gt;&#45;712041701825825780 -->\n<g id=\"edge7\" class=\"edge\">\n<title>&#45;4912096913398660751&#45;&gt;&#45;712041701825825780</title>\n<path fill=\"none\" stroke=\"black\" d=\"M440.78,-252.3C439.57,-260.02 438.11,-269.29 436.76,-277.89\"/>\n<polygon fill=\"black\" stroke=\"black\" points=\"433.28,-277.47 435.19,-287.9 440.2,-278.56 433.28,-277.47\"/>\n</g>\n<!-- &#45;9195080522560861963&#45;&gt;&#45;4912096913398660751 -->\n<g id=\"edge8\" class=\"edge\">\n<title>&#45;9195080522560861963&#45;&gt;&#45;4912096913398660751</title>\n<path fill=\"none\" stroke=\"black\" d=\"M451.78,-180.3C450.57,-188.02 449.11,-197.29 447.76,-205.89\"/>\n<polygon fill=\"black\" stroke=\"black\" points=\"444.28,-205.47 446.19,-215.9 451.2,-206.56 444.28,-205.47\"/>\n</g>\n</g>\n</svg>\n",
            "text/plain": [
              "<graphviz.graphs.Digraph at 0x79292b4fcb50>"
            ]
          },
          "metadata": {},
          "execution_count": 36
        }
      ],
      "source": [
        "# visualize DAGs built from the DataFrame\n",
        "missing_count.visualize()"
      ]
    }
  ],
  "metadata": {
    "colab": {
      "provenance": []
    },
    "kernelspec": {
      "display_name": "Python 3",
      "name": "python3"
    },
    "language_info": {
      "name": "python"
    }
  },
  "nbformat": 4,
  "nbformat_minor": 0
}