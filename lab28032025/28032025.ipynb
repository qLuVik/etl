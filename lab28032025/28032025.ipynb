{
  "nbformat": 4,
  "nbformat_minor": 0,
  "metadata": {
    "colab": {
      "provenance": []
    },
    "kernelspec": {
      "name": "python3",
      "display_name": "Python 3"
    },
    "language_info": {
      "name": "python"
    }
  },
  "cells": [
    {
      "cell_type": "code",
      "execution_count": null,
      "metadata": {
        "id": "KIqDv6wiaXKM"
      },
      "outputs": [],
      "source": [
        "import json\n",
        "import pandas as pd\n",
        "from datetime import datetime\n",
        "import matplotlib.pyplot as plt"
      ]
    },
    {
      "cell_type": "code",
      "source": [
        "from google.colab import files\n",
        "files.upload()"
      ],
      "metadata": {
        "colab": {
          "base_uri": "https://localhost:8080/",
          "height": 436
        },
        "id": "mn0PBFQocIB2",
        "outputId": "2a49a16e-78a4-4679-c498-da6ff21d757e"
      },
      "execution_count": 4,
      "outputs": [
        {
          "output_type": "display_data",
          "data": {
            "text/plain": [
              "<IPython.core.display.HTML object>"
            ],
            "text/html": [
              "\n",
              "     <input type=\"file\" id=\"files-51cca11d-ce80-4d52-93bc-66bbf77be07b\" name=\"files[]\" multiple disabled\n",
              "        style=\"border:none\" />\n",
              "     <output id=\"result-51cca11d-ce80-4d52-93bc-66bbf77be07b\">\n",
              "      Upload widget is only available when the cell has been executed in the\n",
              "      current browser session. Please rerun this cell to enable.\n",
              "      </output>\n",
              "      <script>// Copyright 2017 Google LLC\n",
              "//\n",
              "// Licensed under the Apache License, Version 2.0 (the \"License\");\n",
              "// you may not use this file except in compliance with the License.\n",
              "// You may obtain a copy of the License at\n",
              "//\n",
              "//      http://www.apache.org/licenses/LICENSE-2.0\n",
              "//\n",
              "// Unless required by applicable law or agreed to in writing, software\n",
              "// distributed under the License is distributed on an \"AS IS\" BASIS,\n",
              "// WITHOUT WARRANTIES OR CONDITIONS OF ANY KIND, either express or implied.\n",
              "// See the License for the specific language governing permissions and\n",
              "// limitations under the License.\n",
              "\n",
              "/**\n",
              " * @fileoverview Helpers for google.colab Python module.\n",
              " */\n",
              "(function(scope) {\n",
              "function span(text, styleAttributes = {}) {\n",
              "  const element = document.createElement('span');\n",
              "  element.textContent = text;\n",
              "  for (const key of Object.keys(styleAttributes)) {\n",
              "    element.style[key] = styleAttributes[key];\n",
              "  }\n",
              "  return element;\n",
              "}\n",
              "\n",
              "// Max number of bytes which will be uploaded at a time.\n",
              "const MAX_PAYLOAD_SIZE = 100 * 1024;\n",
              "\n",
              "function _uploadFiles(inputId, outputId) {\n",
              "  const steps = uploadFilesStep(inputId, outputId);\n",
              "  const outputElement = document.getElementById(outputId);\n",
              "  // Cache steps on the outputElement to make it available for the next call\n",
              "  // to uploadFilesContinue from Python.\n",
              "  outputElement.steps = steps;\n",
              "\n",
              "  return _uploadFilesContinue(outputId);\n",
              "}\n",
              "\n",
              "// This is roughly an async generator (not supported in the browser yet),\n",
              "// where there are multiple asynchronous steps and the Python side is going\n",
              "// to poll for completion of each step.\n",
              "// This uses a Promise to block the python side on completion of each step,\n",
              "// then passes the result of the previous step as the input to the next step.\n",
              "function _uploadFilesContinue(outputId) {\n",
              "  const outputElement = document.getElementById(outputId);\n",
              "  const steps = outputElement.steps;\n",
              "\n",
              "  const next = steps.next(outputElement.lastPromiseValue);\n",
              "  return Promise.resolve(next.value.promise).then((value) => {\n",
              "    // Cache the last promise value to make it available to the next\n",
              "    // step of the generator.\n",
              "    outputElement.lastPromiseValue = value;\n",
              "    return next.value.response;\n",
              "  });\n",
              "}\n",
              "\n",
              "/**\n",
              " * Generator function which is called between each async step of the upload\n",
              " * process.\n",
              " * @param {string} inputId Element ID of the input file picker element.\n",
              " * @param {string} outputId Element ID of the output display.\n",
              " * @return {!Iterable<!Object>} Iterable of next steps.\n",
              " */\n",
              "function* uploadFilesStep(inputId, outputId) {\n",
              "  const inputElement = document.getElementById(inputId);\n",
              "  inputElement.disabled = false;\n",
              "\n",
              "  const outputElement = document.getElementById(outputId);\n",
              "  outputElement.innerHTML = '';\n",
              "\n",
              "  const pickedPromise = new Promise((resolve) => {\n",
              "    inputElement.addEventListener('change', (e) => {\n",
              "      resolve(e.target.files);\n",
              "    });\n",
              "  });\n",
              "\n",
              "  const cancel = document.createElement('button');\n",
              "  inputElement.parentElement.appendChild(cancel);\n",
              "  cancel.textContent = 'Cancel upload';\n",
              "  const cancelPromise = new Promise((resolve) => {\n",
              "    cancel.onclick = () => {\n",
              "      resolve(null);\n",
              "    };\n",
              "  });\n",
              "\n",
              "  // Wait for the user to pick the files.\n",
              "  const files = yield {\n",
              "    promise: Promise.race([pickedPromise, cancelPromise]),\n",
              "    response: {\n",
              "      action: 'starting',\n",
              "    }\n",
              "  };\n",
              "\n",
              "  cancel.remove();\n",
              "\n",
              "  // Disable the input element since further picks are not allowed.\n",
              "  inputElement.disabled = true;\n",
              "\n",
              "  if (!files) {\n",
              "    return {\n",
              "      response: {\n",
              "        action: 'complete',\n",
              "      }\n",
              "    };\n",
              "  }\n",
              "\n",
              "  for (const file of files) {\n",
              "    const li = document.createElement('li');\n",
              "    li.append(span(file.name, {fontWeight: 'bold'}));\n",
              "    li.append(span(\n",
              "        `(${file.type || 'n/a'}) - ${file.size} bytes, ` +\n",
              "        `last modified: ${\n",
              "            file.lastModifiedDate ? file.lastModifiedDate.toLocaleDateString() :\n",
              "                                    'n/a'} - `));\n",
              "    const percent = span('0% done');\n",
              "    li.appendChild(percent);\n",
              "\n",
              "    outputElement.appendChild(li);\n",
              "\n",
              "    const fileDataPromise = new Promise((resolve) => {\n",
              "      const reader = new FileReader();\n",
              "      reader.onload = (e) => {\n",
              "        resolve(e.target.result);\n",
              "      };\n",
              "      reader.readAsArrayBuffer(file);\n",
              "    });\n",
              "    // Wait for the data to be ready.\n",
              "    let fileData = yield {\n",
              "      promise: fileDataPromise,\n",
              "      response: {\n",
              "        action: 'continue',\n",
              "      }\n",
              "    };\n",
              "\n",
              "    // Use a chunked sending to avoid message size limits. See b/62115660.\n",
              "    let position = 0;\n",
              "    do {\n",
              "      const length = Math.min(fileData.byteLength - position, MAX_PAYLOAD_SIZE);\n",
              "      const chunk = new Uint8Array(fileData, position, length);\n",
              "      position += length;\n",
              "\n",
              "      const base64 = btoa(String.fromCharCode.apply(null, chunk));\n",
              "      yield {\n",
              "        response: {\n",
              "          action: 'append',\n",
              "          file: file.name,\n",
              "          data: base64,\n",
              "        },\n",
              "      };\n",
              "\n",
              "      let percentDone = fileData.byteLength === 0 ?\n",
              "          100 :\n",
              "          Math.round((position / fileData.byteLength) * 100);\n",
              "      percent.textContent = `${percentDone}% done`;\n",
              "\n",
              "    } while (position < fileData.byteLength);\n",
              "  }\n",
              "\n",
              "  // All done.\n",
              "  yield {\n",
              "    response: {\n",
              "      action: 'complete',\n",
              "    }\n",
              "  };\n",
              "}\n",
              "\n",
              "scope.google = scope.google || {};\n",
              "scope.google.colab = scope.google.colab || {};\n",
              "scope.google.colab._files = {\n",
              "  _uploadFiles,\n",
              "  _uploadFilesContinue,\n",
              "};\n",
              "})(self);\n",
              "</script> "
            ]
          },
          "metadata": {}
        },
        {
          "output_type": "stream",
          "name": "stdout",
          "text": [
            "Saving dag_details_download_rocket_local.json to dag_details_download_rocket_local.json\n"
          ]
        },
        {
          "output_type": "execute_result",
          "data": {
            "text/plain": [
              "{'dag_details_download_rocket_local.json': b'[{\"dag_id\": \"download_rocket_local\", \"run_id\": \"manual__2025-03-28T11:05:29.236229+00:00\", \"state\": \"success\", \"execution_date\": \"2025-03-28T11:05:29.236229+00:00\", \"start_date\": \"2025-03-28T11:05:29.385150+00:00\", \"end_date\": \"2025-03-28T11:05:41.682891+00:00\"}, {\"dag_id\": \"download_rocket_local\", \"run_id\": \"manual__2025-03-28T11:05:11.396589+00:00\", \"state\": \"success\", \"execution_date\": \"2025-03-28T11:05:11.396589+00:00\", \"start_date\": \"2025-03-28T11:05:11.630535+00:00\", \"end_date\": \"2025-03-28T11:05:24.379799+00:00\"}, {\"dag_id\": \"download_rocket_local\", \"run_id\": \"manual__2025-03-28T11:04:45.797447+00:00\", \"state\": \"success\", \"execution_date\": \"2025-03-28T11:04:45.797447+00:00\", \"start_date\": \"2025-03-28T11:04:46.597533+00:00\", \"end_date\": \"2025-03-28T11:04:59.697460+00:00\"}, {\"dag_id\": \"download_rocket_local\", \"run_id\": \"manual__2025-03-28T10:06:52.485058+00:00\", \"state\": \"success\", \"execution_date\": \"2025-03-28T10:06:52.485058+00:00\", \"start_date\": \"2025-03-28T10:06:52.561545+00:00\", \"end_date\": \"2025-03-28T10:07:06.762306+00:00\"}, {\"dag_id\": \"download_rocket_local\", \"run_id\": \"manual__2025-03-28T10:03:57.494303+00:00\", \"state\": \"failed\", \"execution_date\": \"2025-03-28T10:03:57.494303+00:00\", \"start_date\": \"2025-03-28T10:03:57.715977+00:00\", \"end_date\": \"2025-03-28T10:04:02.682446+00:00\"}, {\"dag_id\": \"download_rocket_local\", \"run_id\": \"manual__2025-03-28T10:00:00.874463+00:00\", \"state\": \"failed\", \"execution_date\": \"2025-03-28T10:00:00.874463+00:00\", \"start_date\": \"2025-03-28T10:00:01.482970+00:00\", \"end_date\": \"2025-03-28T10:00:04.679893+00:00\"}, {\"dag_id\": \"download_rocket_local\", \"run_id\": \"manual__2025-03-28T09:59:34.665153+00:00\", \"state\": \"failed\", \"execution_date\": \"2025-03-28T09:59:34.665153+00:00\", \"start_date\": \"2025-03-28T09:59:35.639292+00:00\", \"end_date\": \"2025-03-28T09:59:38.488487+00:00\"}, {\"dag_id\": \"download_rocket_local\", \"run_id\": \"manual__2025-03-28T09:59:01.571757+00:00\", \"state\": \"failed\", \"execution_date\": \"2025-03-28T09:59:01.571757+00:00\", \"start_date\": \"2025-03-28T09:59:01.949981+00:00\", \"end_date\": \"2025-03-28T09:59:06.623613+00:00\"}, {\"dag_id\": \"download_rocket_local\", \"run_id\": \"manual__2025-03-28T09:57:53.415817+00:00\", \"state\": \"failed\", \"execution_date\": \"2025-03-28T09:57:53.415817+00:00\", \"start_date\": \"2025-03-28T09:57:54.660507+00:00\", \"end_date\": \"2025-03-28T09:58:03.243069+00:00\"}, {\"dag_id\": \"download_rocket_local\", \"run_id\": \"scheduled__2025-03-27T00:00:00+00:00\", \"state\": \"failed\", \"execution_date\": \"2025-03-27T00:00:00+00:00\", \"start_date\": \"2025-03-28T09:58:05.895145+00:00\", \"end_date\": \"2025-03-28T09:58:10.049883+00:00\"}, {\"dag_id\": \"download_rocket_local\", \"run_id\": \"scheduled__2025-03-26T00:00:00+00:00\", \"state\": \"failed\", \"execution_date\": \"2025-03-26T00:00:00+00:00\", \"start_date\": \"2025-03-28T09:58:05.454468+00:00\", \"end_date\": \"2025-03-28T09:58:10.035566+00:00\"}, {\"dag_id\": \"download_rocket_local\", \"run_id\": \"scheduled__2025-03-25T00:00:00+00:00\", \"state\": \"failed\", \"execution_date\": \"2025-03-25T00:00:00+00:00\", \"start_date\": \"2025-03-28T09:58:04.969587+00:00\", \"end_date\": \"2025-03-28T09:58:10.019750+00:00\"}, {\"dag_id\": \"download_rocket_local\", \"run_id\": \"scheduled__2025-03-24T00:00:00+00:00\", \"state\": \"failed\", \"execution_date\": \"2025-03-24T00:00:00+00:00\", \"start_date\": \"2025-03-28T09:58:04.749836+00:00\", \"end_date\": \"2025-03-28T09:58:08.929000+00:00\"}, {\"dag_id\": \"download_rocket_local\", \"run_id\": \"scheduled__2025-03-23T00:00:00+00:00\", \"state\": \"failed\", \"execution_date\": \"2025-03-23T00:00:00+00:00\", \"start_date\": \"2025-03-28T09:58:04.395957+00:00\", \"end_date\": \"2025-03-28T09:58:08.902965+00:00\"}, {\"dag_id\": \"download_rocket_local\", \"run_id\": \"scheduled__2025-03-22T00:00:00+00:00\", \"state\": \"failed\", \"execution_date\": \"2025-03-22T00:00:00+00:00\", \"start_date\": \"2025-03-28T09:57:58.803790+00:00\", \"end_date\": \"2025-03-28T09:58:03.256355+00:00\"}, {\"dag_id\": \"download_rocket_local\", \"run_id\": \"scheduled__2025-03-21T00:00:00+00:00\", \"state\": \"failed\", \"execution_date\": \"2025-03-21T00:00:00+00:00\", \"start_date\": \"2025-03-28T09:57:56.917529+00:00\", \"end_date\": \"2025-03-28T09:58:03.249057+00:00\"}, {\"dag_id\": \"download_rocket_local\", \"run_id\": \"scheduled__2025-03-20T00:00:00+00:00\", \"state\": \"failed\", \"execution_date\": \"2025-03-20T00:00:00+00:00\", \"start_date\": \"2025-03-28T09:57:54.660341+00:00\", \"end_date\": \"2025-03-28T09:58:03.233265+00:00\"}, {\"dag_id\": \"download_rocket_local\", \"run_id\": \"scheduled__2025-03-19T00:00:00+00:00\", \"state\": \"failed\", \"execution_date\": \"2025-03-19T00:00:00+00:00\", \"start_date\": \"2025-03-28T09:57:53.565969+00:00\", \"end_date\": \"2025-03-28T09:58:03.194238+00:00\"}, {\"dag_id\": \"download_rocket_local\", \"run_id\": \"scheduled__2025-03-18T00:00:00+00:00\", \"state\": \"failed\", \"execution_date\": \"2025-03-18T00:00:00+00:00\", \"start_date\": \"2025-03-28T09:57:52.974113+00:00\", \"end_date\": \"2025-03-28T09:58:03.220730+00:00\"}, {\"dag_id\": \"download_rocket_local\", \"run_id\": \"scheduled__2025-03-17T00:00:00+00:00\", \"state\": \"failed\", \"execution_date\": \"2025-03-17T00:00:00+00:00\", \"start_date\": \"2025-03-28T09:57:52.740791+00:00\", \"end_date\": \"2025-03-28T09:58:02.641891+00:00\"}, {\"dag_id\": \"download_rocket_local\", \"run_id\": \"scheduled__2025-03-16T00:00:00+00:00\", \"state\": \"failed\", \"execution_date\": \"2025-03-16T00:00:00+00:00\", \"start_date\": \"2025-03-28T09:57:52.622040+00:00\", \"end_date\": \"2025-03-28T09:58:02.625723+00:00\"}, {\"dag_id\": \"download_rocket_local\", \"run_id\": \"scheduled__2025-03-15T00:00:00+00:00\", \"state\": \"failed\", \"execution_date\": \"2025-03-15T00:00:00+00:00\", \"start_date\": \"2025-03-28T09:57:52.496837+00:00\", \"end_date\": \"2025-03-28T09:58:03.207195+00:00\"}, {\"dag_id\": \"download_rocket_local\", \"run_id\": \"scheduled__2025-03-14T00:00:00+00:00\", \"state\": \"failed\", \"execution_date\": \"2025-03-14T00:00:00+00:00\", \"start_date\": \"2025-03-28T09:57:52.392964+00:00\", \"end_date\": \"2025-03-28T09:57:59.438689+00:00\"}]\\n'}"
            ]
          },
          "metadata": {},
          "execution_count": 4
        }
      ]
    },
    {
      "cell_type": "code",
      "source": [
        "with open('dag_details_download_rocket_local.json') as f:\n",
        "    data = json.load(f)"
      ],
      "metadata": {
        "id": "sofQCWipaaT3"
      },
      "execution_count": 5,
      "outputs": []
    },
    {
      "cell_type": "code",
      "source": [
        "df = pd.DataFrame(data)"
      ],
      "metadata": {
        "id": "Bbkxi6nKblZO"
      },
      "execution_count": 6,
      "outputs": []
    },
    {
      "cell_type": "code",
      "source": [
        "df.dtypes"
      ],
      "metadata": {
        "colab": {
          "base_uri": "https://localhost:8080/",
          "height": 272
        },
        "id": "tYCp550Lcdmk",
        "outputId": "7d4c7061-4501-473d-d24e-ef4cbe1a9e2e"
      },
      "execution_count": 10,
      "outputs": [
        {
          "output_type": "execute_result",
          "data": {
            "text/plain": [
              "dag_id            object\n",
              "run_id            object\n",
              "state             object\n",
              "execution_date    object\n",
              "start_date        object\n",
              "end_date          object\n",
              "dtype: object"
            ],
            "text/html": [
              "<div>\n",
              "<style scoped>\n",
              "    .dataframe tbody tr th:only-of-type {\n",
              "        vertical-align: middle;\n",
              "    }\n",
              "\n",
              "    .dataframe tbody tr th {\n",
              "        vertical-align: top;\n",
              "    }\n",
              "\n",
              "    .dataframe thead th {\n",
              "        text-align: right;\n",
              "    }\n",
              "</style>\n",
              "<table border=\"1\" class=\"dataframe\">\n",
              "  <thead>\n",
              "    <tr style=\"text-align: right;\">\n",
              "      <th></th>\n",
              "      <th>0</th>\n",
              "    </tr>\n",
              "  </thead>\n",
              "  <tbody>\n",
              "    <tr>\n",
              "      <th>dag_id</th>\n",
              "      <td>object</td>\n",
              "    </tr>\n",
              "    <tr>\n",
              "      <th>run_id</th>\n",
              "      <td>object</td>\n",
              "    </tr>\n",
              "    <tr>\n",
              "      <th>state</th>\n",
              "      <td>object</td>\n",
              "    </tr>\n",
              "    <tr>\n",
              "      <th>execution_date</th>\n",
              "      <td>object</td>\n",
              "    </tr>\n",
              "    <tr>\n",
              "      <th>start_date</th>\n",
              "      <td>object</td>\n",
              "    </tr>\n",
              "    <tr>\n",
              "      <th>end_date</th>\n",
              "      <td>object</td>\n",
              "    </tr>\n",
              "  </tbody>\n",
              "</table>\n",
              "</div><br><label><b>dtype:</b> object</label>"
            ]
          },
          "metadata": {},
          "execution_count": 10
        }
      ]
    },
    {
      "cell_type": "code",
      "source": [
        "# Преобразование строк дат\n",
        "date_cols = ['execution_date', 'start_date', 'end_date']\n",
        "for col in date_cols:\n",
        "    df[col] = pd.to_datetime(df[col], format='ISO8601')"
      ],
      "metadata": {
        "id": "w45RxzppcWu2"
      },
      "execution_count": 14,
      "outputs": []
    },
    {
      "cell_type": "code",
      "source": [
        "# Добавление длительности выполнения\n",
        "df['duration'] = (df['end_date'] - df['start_date']).dt.total_seconds()"
      ],
      "metadata": {
        "id": "B4PCfLagca2e"
      },
      "execution_count": 15,
      "outputs": []
    },
    {
      "cell_type": "code",
      "source": [
        "print(\"Общая информация:\")\n",
        "print(f\"Всего выполнений: {len(df)}\")\n",
        "print(f\"Успешных выполнений: {len(df[df['state'] == 'success'])}\")\n",
        "print(f\"Неудачных выполнений: {len(df[df['state'] == 'failed'])}\")\n",
        "print(f\"Процент успешных выполнений: {len(df[df['state'] == 'success']) / len(df) * 100:.1f}%\")\n",
        "\n",
        "print(\"\\nСтатистика по длительности выполнения (секунды):\")\n",
        "print(df['duration'].describe())\n"
      ],
      "metadata": {
        "colab": {
          "base_uri": "https://localhost:8080/"
        },
        "id": "cknmI1bdctNF",
        "outputId": "5f7c3db0-117b-4253-b7de-c9da822ac827"
      },
      "execution_count": 16,
      "outputs": [
        {
          "output_type": "stream",
          "name": "stdout",
          "text": [
            "Общая информация:\n",
            "Всего выполнений: 23\n",
            "Успешных выполнений: 4\n",
            "Неудачных выполнений: 19\n",
            "Процент успешных выполнений: 17.4%\n",
            "\n",
            "Статистика по длительности выполнения (секунды):\n",
            "count    23.000000\n",
            "mean      7.651366\n",
            "std       3.530083\n",
            "min       2.849195\n",
            "25%       4.544053\n",
            "50%       7.045725\n",
            "75%      10.125150\n",
            "max      14.200761\n",
            "Name: duration, dtype: float64\n"
          ]
        }
      ]
    },
    {
      "cell_type": "code",
      "source": [
        "# Визуализация\n",
        "plt.figure(figsize=(12, 6))\n",
        "\n",
        "# График состояний по времени выполнения\n",
        "plt.subplot(1, 2, 1)\n",
        "for state, color in [('success', 'green'), ('failed', 'red')]:\n",
        "    subset = df[df['state'] == state]\n",
        "    plt.scatter(subset['execution_date'], subset['duration'], color=color, label=state)\n",
        "plt.title('Длительность выполнения по времени')\n",
        "plt.xlabel('Время выполнения')\n",
        "plt.ylabel('Длительность (секунды)')\n",
        "plt.legend()\n",
        "\n",
        "# График типов запуска\n",
        "plt.subplot(1, 2, 2)\n",
        "run_types = df['run_id'].str.split('__').str[0].value_counts()\n",
        "run_types.plot(kind='bar', color=['blue', 'orange'])\n",
        "plt.title('Типы запусков')\n",
        "plt.xlabel('Тип запуска')\n",
        "plt.ylabel('Количество')\n",
        "\n",
        "plt.tight_layout()\n",
        "plt.show()"
      ],
      "metadata": {
        "colab": {
          "base_uri": "https://localhost:8080/",
          "height": 607
        },
        "id": "WOXEYgl_c5yU",
        "outputId": "25930cfe-62c1-4401-d3e9-6a9209e4fb42"
      },
      "execution_count": 18,
      "outputs": [
        {
          "output_type": "display_data",
          "data": {
            "text/plain": [
              "<Figure size 1200x600 with 2 Axes>"
            ],
            "image/png": "[encoded data removed]"
          },
          "metadata": {}
        }
      ]
    }
  ]
}